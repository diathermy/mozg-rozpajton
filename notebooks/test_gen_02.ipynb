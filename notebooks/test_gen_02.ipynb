{
 "cells": [
  {
   "cell_type": "code",
   "execution_count": 53,
   "metadata": {
    "collapsed": true
   },
   "outputs": [],
   "source": [
    "import os\n",
    "import random\n",
    "import pandas as pd\n",
    "from mypy.proj import find_dropbox"
   ]
  },
  {
   "cell_type": "code",
   "execution_count": 2,
   "metadata": {
    "collapsed": false
   },
   "outputs": [
    {
     "name": "stdout",
     "output_type": "stream",
     "text": [
      "C:\\proj\\src\\mozg-rozpajton\\testy\\test_02\n"
     ]
    }
   ],
   "source": [
    "cd ../testy/test_02/"
   ]
  },
  {
   "cell_type": "code",
   "execution_count": 93,
   "metadata": {
    "collapsed": false
   },
   "outputs": [
    {
     "name": "stdout",
     "output_type": "stream",
     "text": [
      "szkic_2.txt\n"
     ]
    }
   ],
   "source": [
    "fls = os.listdir()\n",
    "wzor_file = fls[0]\n",
    "print(wzor_file)\n",
    "\n",
    "f = open(wzor_file, encoding='utf-8')\n",
    "lines = f.readlines()\n",
    "f.close()"
   ]
  },
  {
   "cell_type": "markdown",
   "metadata": {},
   "source": [
    "## segment by `{%QUESTION%}`"
   ]
  },
  {
   "cell_type": "code",
   "execution_count": 94,
   "metadata": {
    "collapsed": false
   },
   "outputs": [],
   "source": [
    "pattern = '{%QUESTION%}'\n",
    "\n",
    "in_questions = False\n",
    "start_text = list()\n",
    "questions = list()\n",
    "question_number = 0\n",
    "\n",
    "for l in lines:\n",
    "    has_pattern = pattern in l\n",
    "    if not in_questions: \n",
    "        if has_pattern:\n",
    "            in_questions = True\n",
    "        else:\n",
    "            start_text.append(l)\n",
    "    \n",
    "    if in_questions:\n",
    "        if has_pattern:\n",
    "            questions.append(list())\n",
    "            question_number = len(questions) - 1\n",
    "        questions[question_number].append(l)"
   ]
  },
  {
   "cell_type": "code",
   "execution_count": 89,
   "metadata": {
    "collapsed": false
   },
   "outputs": [
    {
     "data": {
      "text/plain": [
       "4"
      ]
     },
     "execution_count": 89,
     "metadata": {},
     "output_type": "execute_result"
    }
   ],
   "source": [
    "num_questions = len(questions)\n",
    "num_questions"
   ]
  },
  {
   "cell_type": "code",
   "execution_count": 90,
   "metadata": {
    "collapsed": false
   },
   "outputs": [
    {
     "name": "stdout",
     "output_type": "stream",
     "text": [
      "Korzystając z funkcji `range` utwórz **listę** wartości od {%WARTOSC_START%} do {%WARTOSC_KONIEC%}.\n",
      "\n"
     ]
    }
   ],
   "source": [
    "print(questions[2][1])"
   ]
  },
  {
   "cell_type": "code",
   "execution_count": 22,
   "metadata": {
    "collapsed": true
   },
   "outputs": [],
   "source": [
    "import re"
   ]
  },
  {
   "cell_type": "code",
   "execution_count": 23,
   "metadata": {
    "collapsed": true
   },
   "outputs": [],
   "source": [
    "reg = '{%[A-Z_]+%}'\n",
    "tekst = 'utwórz **listę** wartości od {%WARTOSC_START%} do {%WARTOSC_KONIEC%}.'"
   ]
  },
  {
   "cell_type": "code",
   "execution_count": 27,
   "metadata": {
    "collapsed": false
   },
   "outputs": [
    {
     "name": "stdout",
     "output_type": "stream",
     "text": [
      "WARTOSC_START\n",
      "WARTOSC_KONIEC\n"
     ]
    }
   ],
   "source": [
    "results = re.findall(reg, tekst)\n",
    "for r in results:\n",
    "    print(r[2:-2])"
   ]
  },
  {
   "cell_type": "code",
   "execution_count": 39,
   "metadata": {
    "collapsed": false
   },
   "outputs": [],
   "source": [
    "# find all variables\n",
    "reg = '{%[A-Z_]+[0-9]*%}'\n",
    "var_names = set()\n",
    "for l in lines:\n",
    "    results = re.findall(reg, l)\n",
    "    for r in results:\n",
    "        var = r[2:-2]\n",
    "        if not var in var_names:\n",
    "            var_names.add(var)"
   ]
  },
  {
   "cell_type": "code",
   "execution_count": 40,
   "metadata": {
    "collapsed": false
   },
   "outputs": [
    {
     "data": {
      "text/plain": [
       "{'IMIE_NAZWISKO',\n",
       " 'LISTA',\n",
       " 'LISTA_VAL',\n",
       " 'NAPIS',\n",
       " 'NAPIS_RANGE_1',\n",
       " 'NAPIS_RANGE_2',\n",
       " 'NAPIS_RANGE_3',\n",
       " 'NAPIS_VAL',\n",
       " 'NAZWA_LISTY',\n",
       " 'NAZWA_ZMIENNEJ01',\n",
       " 'QUESTION',\n",
       " 'WARTOSC_KONIEC',\n",
       " 'WARTOSC_START',\n",
       " 'WARTOSC_VAL'}"
      ]
     },
     "execution_count": 40,
     "metadata": {},
     "output_type": "execute_result"
    }
   ],
   "source": [
    "var_names"
   ]
  },
  {
   "cell_type": "markdown",
   "metadata": {},
   "source": [
    "## general substitution rules"
   ]
  },
  {
   "cell_type": "code",
   "execution_count": 42,
   "metadata": {
    "collapsed": false
   },
   "outputs": [
    {
     "name": "stdout",
     "output_type": "stream",
     "text": [
      "[[3, 4], ['kot', 'pies']]\n"
     ]
    }
   ],
   "source": [
    "napis = str([[3, 4], ['kot', 'pies']])\n",
    "print(napis)"
   ]
  },
  {
   "cell_type": "code",
   "execution_count": 44,
   "metadata": {
    "collapsed": false
   },
   "outputs": [],
   "source": [
    "start = [10, 15, 21, 33, 45, 81, 122]\n",
    "koniec = [5, 14, 28, 39, 57, 73]\n",
    "napisy = ['od {} do {}'.format(x, x + y) for x in start for y in koniec]"
   ]
  },
  {
   "cell_type": "code",
   "execution_count": 95,
   "metadata": {
    "collapsed": false
   },
   "outputs": [],
   "source": [
    "lista_elems = [[3, 4], ['kot', 'pies'], 23, [[8, 7, 6], 'abcd']]\n",
    "\n",
    "substitute = {'LISTA_VAL': [str(x) for x in [\n",
    "                            [3, 4], ['pies', 'kot'], ['kot', 'pies'],\n",
    "                            [8, 7, 6], [8, 6], [7, 6]]],\n",
    "              'NAPIS_VAL':  ['pie', 'ot', 'dcba', 'bd' 'seip', 'tok'],\n",
    "              'WARTOSC_VAL': [3, 4, 23, 8, 7, 6],\n",
    "              'NAZWA_LISTY': ['jamnik', 'papier', 'kubrak', 'szyk', 'krzyk', 'koszyk'],\n",
    "              'NAZWA_ZMIENNEJ01': ['krab_szczepan', 'jamnik_dobromir', 'sarna_stefania',\n",
    "                                    'wilk_wojtek', 'owca_agnieszka'],\n",
    "              'NAPIS':      ['super kartkówka!', 'uwielbiam kartkówki!',\n",
    "                             'python prowadzi mnie; przez analizy eeg', 'python skradł mi serce',\n",
    "                             'zawsze dokładnie przygotowuję się do zajęć',\n",
    "                             'zawsze przychodzę na zajęcia punktualnie'],\n",
    "              'WARTOSC_START': [1, 2, 3, 4, 5, 6, 7, 8],\n",
    "              'WARTOSC_KONIEC': [3, 4, 5, 6, 7],\n",
    "              'NAPIS_RANGE_1': napisy,\n",
    "              'NAPIS_RANGE_2': napisy,\n",
    "              'NAPIS_RANGE_3': napisy}"
   ]
  },
  {
   "cell_type": "markdown",
   "metadata": {},
   "source": [
    "## read students list"
   ]
  },
  {
   "cell_type": "code",
   "execution_count": 49,
   "metadata": {
    "collapsed": false
   },
   "outputs": [
    {
     "name": "stdout",
     "output_type": "stream",
     "text": [
      "C:\\Users\\swps\\Dropbox\\Sarenka\\ZAJECIA\\python eeg warsztaty 2016\n",
      "lista_studentow.txt\n"
     ]
    }
   ],
   "source": [
    "dropbox_dir = find_dropbox()\n",
    "lista_path = os.path.join(dropbox_dir, 'Sarenka', 'ZAJECIA', 'python eeg warsztaty 2016')\n",
    "lista_name = os.listdir(lista_path)[0]\n",
    "\n",
    "print(lista_path)\n",
    "print(lista_name)"
   ]
  },
  {
   "cell_type": "code",
   "execution_count": 54,
   "metadata": {
    "collapsed": false
   },
   "outputs": [
    {
     "name": "stdout",
     "output_type": "stream",
     "text": [
      "['mgogolewska', 'eisakova', 'wkowalczyk', 'mkowalska', 'zkucharek']\n"
     ]
    }
   ],
   "source": [
    "lista = pd.read_table(os.path.join(lista_path, lista_name), sep='\\t')\n",
    "\n",
    "im_nazw = lista['Nazwisko i imię'].tolist()\n",
    "short_im = [(name.split()[-1][0] + name.split()[0]).lower() for name in im_nazw]\n",
    "\n",
    "def depol(txt):\n",
    "    pol2ascii = {'ż': 'z', 'ó': 'o', 'ź': 'z', 'ć': 'c',\n",
    "                 'ę': 'e', 'ą': 'a', 'ł': 'l', 'ś': 's'}\n",
    "    return ''.join([pol2ascii.get(ch, ch) for ch in txt])\n",
    "\n",
    "short_im = list(map(depol, short_im))\n",
    "print(short_im[5:10])"
   ]
  },
  {
   "cell_type": "markdown",
   "metadata": {},
   "source": [
    "## test deepcopy + shuffle"
   ]
  },
  {
   "cell_type": "code",
   "execution_count": 79,
   "metadata": {
    "collapsed": false
   },
   "outputs": [
    {
     "name": "stdout",
     "output_type": "stream",
     "text": [
      "[[3, 4], [[8, 7, 6], 'abcd'], ['kot', 'pies'], 23]\n",
      "[[3, 4], ['kot', 'pies'], 23, [[8, 7, 6], 'abcd']]\n"
     ]
    }
   ],
   "source": [
    "lst = deepcopy(lista_elems)\n",
    "random.shuffle(lst)\n",
    "print(lst)\n",
    "print(lista_elems)"
   ]
  },
  {
   "cell_type": "markdown",
   "metadata": {},
   "source": [
    "everything works well"
   ]
  },
  {
   "cell_type": "markdown",
   "metadata": {},
   "source": [
    "## generate tests"
   ]
  },
  {
   "cell_type": "code",
   "execution_count": 67,
   "metadata": {
    "collapsed": true
   },
   "outputs": [],
   "source": [
    "def subst(text, substitutions):\n",
    "    for k in substitutions.keys():\n",
    "        realkey = '{%' + str(k) + '%}'\n",
    "        if realkey in text:\n",
    "            text = text.replace(realkey, str(substitutions[k]))\n",
    "    return text"
   ]
  },
  {
   "cell_type": "code",
   "execution_count": 96,
   "metadata": {
    "collapsed": false
   },
   "outputs": [],
   "source": [
    "for im, imshrt in zip(im_nazw, short_im):\n",
    "\n",
    "    # randomize questions order\n",
    "    question_order = list(range(num_questions))\n",
    "    random.shuffle(question_order)\n",
    "    this_questions = [questions[i].copy() for i in question_order]\n",
    "    \n",
    "    # generate current substitutions:\n",
    "    this_substitution = substitute.copy()\n",
    "    for k in this_substitution.keys():\n",
    "        this_substitution[k] = random.choice(this_substitution[k])\n",
    "    \n",
    "    # additional things for subst:\n",
    "    this_substitution['WARTOSC_KONIEC'] += this_substitution['WARTOSC_START']\n",
    "    \n",
    "    lista = deepcopy(lista_elems)\n",
    "    random.shuffle(lista)\n",
    "    this_substitution['LISTA'] = lista\n",
    "\n",
    "    # generate substituted questions:\n",
    "    for qi, q in enumerate(this_questions, 1):\n",
    "        for i in range(len(q)):\n",
    "            q[i] = subst(q[i], this_substitution)\n",
    "            if '{%QUESTION%}' in q[i]:\n",
    "                q[i] = q[i].replace('{%QUESTION%}', 'ZADANIE {}  \\n'.format(qi))\n",
    "    \n",
    "    # generate substituted start text:\n",
    "    this_start_text = start_text.copy()\n",
    "    for i in range(len(this_start_text)):\n",
    "        if '{%IMIE_NAZWISKO%}' in this_start_text[i]:\n",
    "            this_start_text[i] = this_start_text[i].replace('{%IMIE_NAZWISKO%}', im)\n",
    "    \n",
    "    # write test to disk:\n",
    "    fname = imshrt + '.md'\n",
    "    f = open(fname, mode='w', encoding='utf-8')\n",
    "    \n",
    "    f.writelines(this_start_text)\n",
    "    for q in this_questions:\n",
    "        f.writelines(q)\n",
    "    \n",
    "    f.close()"
   ]
  },
  {
   "cell_type": "code",
   "execution_count": 60,
   "metadata": {
    "collapsed": false
   },
   "outputs": [
    {
     "data": {
      "text/plain": [
       "['abarszczewska.txt', 'adontsova.txt', 'aruban.txt']"
      ]
     },
     "execution_count": 60,
     "metadata": {},
     "output_type": "execute_result"
    }
   ],
   "source": [
    "# ups, chcieliśmy faktycznie markdown:\n",
    "fls = os.listdir()\n",
    "fls[:3]"
   ]
  },
  {
   "cell_type": "code",
   "execution_count": 61,
   "metadata": {
    "collapsed": true
   },
   "outputs": [],
   "source": [
    "import shutil"
   ]
  },
  {
   "cell_type": "code",
   "execution_count": 62,
   "metadata": {
    "collapsed": true
   },
   "outputs": [],
   "source": [
    "for f in fls:\n",
    "    if not f == 'wzor.txt':\n",
    "        shutil.copyfile(f, f.replace('.txt', '.md'))"
   ]
  },
  {
   "cell_type": "code",
   "execution_count": 63,
   "metadata": {
    "collapsed": true
   },
   "outputs": [],
   "source": [
    "# eh, should have used `shutil.move()`..."
   ]
  },
  {
   "cell_type": "markdown",
   "metadata": {},
   "source": [
    "## problemy z poprawnym kodowaniem pliku"
   ]
  },
  {
   "cell_type": "markdown",
   "metadata": {},
   "source": [
    "unresolved:\n",
    "* `windows-1250` vs `utf-8` encoding..."
   ]
  },
  {
   "cell_type": "code",
   "execution_count": 64,
   "metadata": {
    "collapsed": true
   },
   "outputs": [],
   "source": [
    "f = open('kmajcher.md')"
   ]
  },
  {
   "cell_type": "code",
   "execution_count": 65,
   "metadata": {
    "collapsed": false
   },
   "outputs": [
    {
     "data": {
      "text/plain": [
       "'cp1250'"
      ]
     },
     "execution_count": 65,
     "metadata": {},
     "output_type": "execute_result"
    }
   ],
   "source": [
    "f.encoding"
   ]
  },
  {
   "cell_type": "code",
   "execution_count": 66,
   "metadata": {
    "collapsed": false
   },
   "outputs": [
    {
     "name": "stdout",
     "output_type": "stream",
     "text": [
      "['KartkĂłwka dla:\\n', 'Majcher Katarzyna\\n', '\\n', 'ZADANIE 1\\n', 'Masz zmiennÄ… `kałamarnica`, ale za cholerÄ™ nie wiesz jakiego rodzaju to zmienna (np. `str` vs `int` itp.) - napisz poniĹĽej komendÄ™, ktĂłra Ci w tym pomoĹĽe:\\n', '```\\n', '\\n']\n"
     ]
    }
   ],
   "source": [
    "text = f.readlines()\n",
    "print(text[:7])"
   ]
  },
  {
   "cell_type": "code",
   "execution_count": 68,
   "metadata": {
    "collapsed": false
   },
   "outputs": [
    {
     "name": "stdout",
     "output_type": "stream",
     "text": [
      "['Kartkówka dla:\\n', 'Majcher Katarzyna\\n', '\\n', 'ZADANIE 1\\n', 'Masz zmienną `kaamarnica`, ale za cholerę nie wiesz jakiego rodzaju to zmienna (np. `str` vs `int` itp.) - napisz poniżej komendę, która Ci w tym pomoże:\\n', '```\\n', '\\n']\n"
     ]
    }
   ],
   "source": [
    "f.close()\n",
    "f = open('kmajcher.md', encoding='utf-8', errors='ignore')\n",
    "text = f.readlines()\n",
    "f.close()\n",
    "print(text[:7])"
   ]
  },
  {
   "cell_type": "markdown",
   "metadata": {},
   "source": [
    "To jest ten zły character\n",
    "�"
   ]
  },
  {
   "cell_type": "code",
   "execution_count": 75,
   "metadata": {
    "collapsed": false
   },
   "outputs": [],
   "source": [
    "# let's just omit bad char...\n",
    "subdir = 'fin_tests'\n",
    "this_dir = os.getcwd()\n",
    "fls = os.listdir(this_dir)\n",
    "\n",
    "if not os.path.exists(os.path.join(this_dir, subdir)):\n",
    "    os.mkdir(subdir)\n",
    "\n",
    "for file in fls:\n",
    "    if not file in ['wzor.txt', subdir]:\n",
    "        f = open(file, encoding='utf-8', errors='ignore')\n",
    "        text = f.readlines()\n",
    "        f.close()\n",
    "        \n",
    "        # save\n",
    "        f = open(os.path.join(subdir, file), mode='w', encoding='utf-8')\n",
    "        f.writelines(text)\n",
    "        f.close()"
   ]
  },
  {
   "cell_type": "code",
   "execution_count": null,
   "metadata": {
    "collapsed": true
   },
   "outputs": [],
   "source": []
  }
 ],
 "metadata": {
  "kernelspec": {
   "display_name": "Python [Root]",
   "language": "python",
   "name": "Python [Root]"
  },
  "language_info": {
   "codemirror_mode": {
    "name": "ipython",
    "version": 3
   },
   "file_extension": ".py",
   "mimetype": "text/x-python",
   "name": "python",
   "nbconvert_exporter": "python",
   "pygments_lexer": "ipython3",
   "version": "3.5.1"
  }
 },
 "nbformat": 4,
 "nbformat_minor": 0
}
