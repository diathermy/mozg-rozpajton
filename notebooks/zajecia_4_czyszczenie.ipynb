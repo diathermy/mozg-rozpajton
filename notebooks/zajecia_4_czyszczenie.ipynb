{
 "cells": [
  {
   "cell_type": "code",
   "execution_count": null,
   "metadata": {
    "collapsed": false
   },
   "outputs": [],
   "source": [
    "import os\n",
    "import os.path as op\n",
    "\n",
    "import numpy as np\n",
    "import matplotlib.pyplot as plt\n",
    "\n",
    "# mne\n",
    "import mne\n",
    "from mne.io import read_raw_egi\n",
    "\n",
    "# mypy\n",
    "from mypy.chans import correct_egi_channel_names\n",
    "from mypy.events import get_events_from_din\n",
    "from mypy.viz import set_3d_axes_equal\n",
    "\n",
    "%matplotlib"
   ]
  },
  {
   "cell_type": "code",
   "execution_count": null,
   "metadata": {
    "collapsed": false
   },
   "outputs": [],
   "source": [
    "base_dir = r'C:\\Users\\Ola\\Dropbox\\CAT N170\\EEG'\n",
    "file_name = r'CAT312 20131209 2056002.raw'"
   ]
  },
  {
   "cell_type": "code",
   "execution_count": 11,
   "metadata": {
    "collapsed": false
   },
   "outputs": [
    {
     "name": "stdout",
     "output_type": "stream",
     "text": [
      "C:\\Users\\Ola\\Dropbox\\CAT N170\\EEG\\CAT312 20131209 2056002.raw\n",
      "\n",
      " <RawEGI  |  CAT312 20131209 2056002.raw, n_channels x n_times : 73 x 173724 (694.9 sec), ~96.9 MB, data loaded>\n",
      "393 matching events found\n",
      "0 projection items activated\n",
      "Loading data for 393 events and 251 original time points ...\n",
      "0 bad epochs dropped\n",
      "Adding average EEG reference projection.\n",
      "1 projection items deactivated\n",
      "Dropped 7 epochs\n",
      "Channels marked as bad: ['E19']\n"
     ]
    }
   ],
   "source": [
    "file_path = op.join(base_dir, file_name)\n",
    "print(file_path)\n",
    "\n",
    "# wczytujemy plik\n",
    "raw = read_raw_egi(file_path, preload=True, verbose=False)\n",
    "print('\\n', raw)\n",
    "\n",
    "# filtrowanie\n",
    "raw.filter(0.5, None)\n",
    "\n",
    "# wczytujemy montaż\n",
    "montage = mne.channels.read_montage('GSN-HydroCel-65_1.0')\n",
    "correct_egi_channel_names(raw)\n",
    "raw.set_montage(montage)\n",
    "\n",
    "# bierzemy wydarzenia z kanałów DIN\n",
    "events = get_events_from_din(raw)\n",
    "\n",
    "# teraz tworzymy słownik tylko z wydarzeniami, względem których będziemy epokować:\n",
    "event_id = { \"car/0\": 36, \"car/90\": 40, \"car/180\": 44,\n",
    "            \"face/0\": 52, \"face/90\": 56, \"face/180\": 60}\n",
    "\n",
    "# epokujemy:\n",
    "epochs = mne.Epochs(raw, events, tmin=-0.25, tmax=0.75,\n",
    "                    event_id=event_id, preload=True)\n",
    "\n",
    "# ustawiamy referencję do średniej - porównamy sobie co nam zmienia\n",
    "# (o ref do średniej zrobię jeszcze jakiś tutorial / notebook)\n",
    "epochs.set_eeg_reference()\n",
    "\n",
    "# zwienczenie - plot, usuwamy teraz złe epoki\n",
    "epochs.plot(n_epochs=6, n_channels=64, scalings={'eeg': 'auto'});"
   ]
  },
  {
   "cell_type": "code",
   "execution_count": 12,
   "metadata": {
    "collapsed": false
   },
   "outputs": [],
   "source": [
    "# po usunięciu złych epok - zapisujemy ocalałe epoki z rozszerzeniem `-epo.fif`\n",
    "epochs.save(op.join(base_dir, file_name.replace('.raw', '-epo.fif')))"
   ]
  },
  {
   "cell_type": "markdown",
   "metadata": {},
   "source": [
    "## ICA"
   ]
  },
  {
   "cell_type": "code",
   "execution_count": 13,
   "metadata": {
    "collapsed": false
   },
   "outputs": [
    {
     "name": "stdout",
     "output_type": "stream",
     "text": [
      "Fitting ICA to data using 64 channels. \n",
      "Please be patient, this may take some time\n",
      "Inferring max_pca_components from picks.\n",
      "Selection by explained variance: 42 components\n",
      "computing Extended Infomax ICA\n"
     ]
    },
    {
     "data": {
      "text/plain": [
       "<ICA  |  epochs decomposition, fit (extended-infomax): 96886 samples, 42 components, channels used: \"eeg\">"
      ]
     },
     "execution_count": 13,
     "metadata": {},
     "output_type": "execute_result"
    }
   ],
   "source": [
    "from mne.preprocessing import ICA\n",
    "\n",
    "ica = ICA(method='extended-infomax', n_components=0.99)\n",
    "ica.fit(epochs)"
   ]
  },
  {
   "cell_type": "code",
   "execution_count": 18,
   "metadata": {
    "collapsed": false
   },
   "outputs": [],
   "source": [
    "# otwieramy podgląd pierwszych 25 komponentów oraz okno z ich sygnałem\n",
    "ica.plot_components(picks=list(range(0, 25)), inst=epochs);\n",
    "ica.plot_sources()"
   ]
  },
  {
   "cell_type": "code",
   "execution_count": 22,
   "metadata": {
    "collapsed": false
   },
   "outputs": [],
   "source": [
    "# gdy chemy zobaczyć z rozmyciem:\n",
    "ica.plot_properties(picks=[0, 3, 4, 5], inst=epochs, image_args=dict(sigma=2.5));"
   ]
  },
  {
   "cell_type": "code",
   "execution_count": 20,
   "metadata": {
    "collapsed": false
   },
   "outputs": [
    {
     "data": {
      "text/plain": [
       "[9, 8, 3, 4, 5, 6]"
      ]
     },
     "execution_count": 20,
     "metadata": {},
     "output_type": "execute_result"
    }
   ],
   "source": [
    "# upewniamy się, że zostały zaznaczone złe kompo\n",
    "ica.exclude"
   ]
  },
  {
   "cell_type": "code",
   "execution_count": 21,
   "metadata": {
    "collapsed": false
   },
   "outputs": [
    {
     "name": "stdout",
     "output_type": "stream",
     "text": [
      "Writing ica solution to C:\\Users\\Ola\\Dropbox\\CAT N170\\EEG\\ica\\CAT312 20131209 2056002-ica.fif...\n"
     ]
    },
    {
     "data": {
      "text/plain": [
       "<ICA  |  epochs decomposition, fit (extended-infomax): 96886 samples, 42 components, channels used: \"eeg\", 6 sources marked for exclusion>"
      ]
     },
     "execution_count": 21,
     "metadata": {},
     "output_type": "execute_result"
    }
   ],
   "source": [
    "# i zapisujemy z rozszerzeniem `-ica.fif`\n",
    "ica.save(op.join(base_dir, file_name.replace('.raw', '-ica.fif')))"
   ]
  }
 ],
 "metadata": {
  "anaconda-cloud": {},
  "kernelspec": {
   "display_name": "Python 3",
   "language": "python",
   "name": "python3"
  },
  "language_info": {
   "codemirror_mode": {
    "name": "ipython",
    "version": 3
   },
   "file_extension": ".py",
   "mimetype": "text/x-python",
   "name": "python",
   "nbconvert_exporter": "python",
   "pygments_lexer": "ipython3",
   "version": "3.4.4"
  }
 },
 "nbformat": 4,
 "nbformat_minor": 0
}
